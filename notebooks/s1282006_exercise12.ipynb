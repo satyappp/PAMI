{
 "cells": [
  {
   "cell_type": "markdown",
   "id": "cc9d758e-2b71-4461-92d1-63b0eca020db",
   "metadata": {},
   "source": [
    "# Exercise 12\n",
    "## Satyabrata Pahari s1282006"
   ]
  },
  {
   "cell_type": "markdown",
   "id": "57275f66-6250-4b40-9459-c8a493a2db3f",
   "metadata": {},
   "source": [
    "## Import Required Libraries\n",
    "\n",
    "We start by importing all the required libraries. These include psycopg2 for database operations, pandas for data manipulation, PAMI for pattern mining, and plotly for data visualization."
   ]
  },
  {
   "cell_type": "code",
   "execution_count": 85,
   "id": "599a8e3e-2d4d-4984-b676-f355d7390624",
   "metadata": {},
   "outputs": [],
   "source": [
    "import psycopg2\n",
    "import pandas as pd\n",
    "import numpy as np\n",
    "from PAMI.extras.DF2DB import denseDF2DB as pro\n",
    "from PAMI.frequentPattern.basic import FPGrowth as alg\n",
    "from PAMI.extras.graph import dataFrameInToFigures as dif\n",
    "from config import config\n",
    "import plotly.express as px\n",
    "import geopandas as gpd\n",
    "from shapely import wkt\n"
   ]
  },
  {
   "cell_type": "markdown",
   "id": "ef0fcb8f-c8b1-442b-8df3-9bdeb3109634",
   "metadata": {},
   "source": [
    "## Define DBManager Class\n",
    "\n",
    "DBManager is a class for managing connections to a PostgreSQL database. This class helps in connecting to and disconnecting from the PostgreSQL database.\n"
   ]
  },
  {
   "cell_type": "code",
   "execution_count": 86,
   "id": "424da6f5-74e3-4505-973e-9fd3bcc3b22a",
   "metadata": {},
   "outputs": [],
   "source": [
    "class DBManager:\n",
    "    def __init__(self, params):\n",
    "        self.conn = None\n",
    "        self.cursor = None\n",
    "        self.params = params\n",
    "\n",
    "    def connect(self):\n",
    "        print('Connecting to the PostgreSQL database...')\n",
    "        self.conn = psycopg2.connect(**self.params)\n",
    "        self.cursor = self.conn.cursor()\n",
    "\n",
    "    def close(self):\n",
    "        if self.cursor:\n",
    "            self.cursor.close()\n",
    "        if self.conn:\n",
    "            self.conn.close()\n",
    "        print('Database connection closed.')\n",
    "\n",
    "    def fetch_coordinates(self, station_ids):\n",
    "        self.cursor.execute(\n",
    "            \"SELECT stationID, ST_X(Location::geometry), ST_Y(Location::geometry) FROM stationInfo WHERE stationID IN %s\",\n",
    "            (tuple(station_ids),)\n",
    "        )\n",
    "        rows = self.cursor.fetchall()\n",
    "        coordinates = {row[0]: (row[1], row[2]) for row in rows}\n",
    "        return coordinates\n"
   ]
  },
  {
   "cell_type": "markdown",
   "id": "30855722-171e-4034-832d-af516029376f",
   "metadata": {},
   "source": [
    "## Define DataProcessor Class\n",
    "\n",
    "DataProcessor is a class for processing data. This class includes methods for preprocessing the data, converting it into a transactional database, running the FP-growth algorithm on the data, and plotting the patterns on an interactive map.\n"
   ]
  },
  {
   "cell_type": "code",
   "execution_count": 87,
   "id": "8a38c924-7852-4ca2-99bd-19329d2706eb",
   "metadata": {},
   "outputs": [],
   "source": [
    "class DataProcessor:\n",
    "    @staticmethod\n",
    "    def process_data(filename):\n",
    "        df = pd.read_csv(filename, index_col=0)\n",
    "        df.fillna(0, inplace=True)\n",
    "        df[df >= 100] = 0\n",
    "        df.index.names = ['tid']\n",
    "        df.reset_index(drop=True, inplace=True)\n",
    "        df.index += 1\n",
    "        db = pro.denseDF2DB(inputDF=df, thresholdValue=15, condition='>=')\n",
    "        db.createTransactional(outputFile='transactionalDB.txt')\n",
    "        print('The output file is saved at ' + db.getFileName())\n",
    "        df.to_csv('PM24HeavyPollutionRecordingSensors.csv', index=True)\n",
    "\n",
    "    @staticmethod\n",
    "    def run_fpgrowth(inputFile, minSupList):\n",
    "        result = pd.DataFrame(columns=['algorithm', 'minSup', 'patterns', 'runtime', 'memory'])\n",
    "        algorithm = 'FP-growth'\n",
    "        for minSup in minSupList:\n",
    "            obj = alg.FPGrowth(inputFile, minSup, '\\t')\n",
    "            obj.startMine()\n",
    "            filename = 'frequentPatterns.txt'\n",
    "            obj.save(filename)\n",
    "            result.loc[result.shape[0]] = [algorithm, minSup, len(obj.getPatterns()), obj.getRuntime(), obj.getMemoryRSS()]\n",
    "        return result\n"
   ]
  },
  {
   "cell_type": "markdown",
   "id": "d7ae049d-3895-4124-aace-7653f94cf3b9",
   "metadata": {},
   "source": [
    "## Define Helper Functions\n",
    "\n",
    "These functions help in reading and processing patterns from a file, and plotting these patterns on an interactive map.\n"
   ]
  },
  {
   "cell_type": "code",
   "execution_count": 88,
   "id": "6abda740-b1b6-4796-8123-397a76040748",
   "metadata": {},
   "outputs": [],
   "source": [
    "def read_and_process_patterns_file(file_path):\n",
    "    with open(file_path, 'r') as file:\n",
    "        data = file.read().split(\"\\n\")\n",
    "    patterns = {}\n",
    "    for line in data:\n",
    "        if line:\n",
    "            point, freq = line.split(\":\")\n",
    "            point = point.strip()[6:-1]\n",
    "            patterns[point] = int(freq)\n",
    "    return patterns\n",
    "\n",
    "def plot_patterns_on_map(patterns, coordinates):\n",
    "    fig = px.scatter_mapbox(\n",
    "        data_frame=pd.DataFrame(\n",
    "            {\n",
    "                'station': [station for station in patterns.keys() if station in coordinates],\n",
    "                'lat': [coordinates[station][1] for station in patterns.keys() if station in coordinates],\n",
    "                'lon': [coordinates[station][0] for station in patterns.keys() if station in coordinates],\n",
    "                'size': [patterns[station] for station in patterns.keys() if station in coordinates]\n",
    "            }\n",
    "        ),\n",
    "        lat='lat',\n",
    "        lon='lon',\n",
    "        color='size',\n",
    "        size='size',\n",
    "        color_continuous_scale=px.colors.cyclical.IceFire,\n",
    "        size_max=20,\n",
    "        zoom=4,\n",
    "        center=dict(lat=36.686567, lon=135.52000),\n",
    "        mapbox_style=\"open-street-map\"\n",
    "    )\n",
    "    fig.show()"
   ]
  },
  {
   "cell_type": "code",
   "execution_count": 91,
   "id": "00b371ab-b807-4af3-b9ac-d1d934b364f9",
   "metadata": {},
   "outputs": [
    {
     "name": "stdout",
     "output_type": "stream",
     "text": [
      "The output file is saved at transactionalDB.txt\n",
      "Frequent patterns were generated successfully using frequentPatternGrowth algorithm\n",
      "   algorithm  minSup  patterns   runtime     memory\n",
      "0  FP-growth     223       158  0.564509  399396864\n"
     ]
    }
   ],
   "source": [
    "filename = 'air_pollution_data.csv'\n",
    "DataProcessor.process_data(filename)\n",
    "minSupList = [223]\n",
    "result = DataProcessor.run_fpgrowth('transactionalDB.txt', minSupList)\n",
    "print(result)\n",
    "ab = dif.dataFrameInToFigures(result)"
   ]
  },
  {
   "cell_type": "code",
   "execution_count": 90,
   "id": "261640ea-b9e2-4c77-a15a-4f8cee7b996d",
   "metadata": {},
   "outputs": [
    {
     "name": "stdout",
     "output_type": "stream",
     "text": [
      "Connecting to the PostgreSQL database...\n"
     ]
    },
    {
     "data": {
      "application/vnd.plotly.v1+json": {
       "config": {
        "plotlyServerURL": "https://plot.ly"
       },
       "data": [
        {
         "hovertemplate": "size=%{marker.color}<br>lat=%{lat}<br>lon=%{lon}<extra></extra>",
         "lat": [
          33.2568013,
          33.8415709,
          34.003159,
          32.7822415,
          33.82088,
          33.810515,
          33.6256272,
          35.43753900000001,
          31.60241139999999,
          34.1711271,
          34.2477906,
          31.76077,
          35.6362127,
          34.6007931,
          33.5573435,
          33.3001304,
          33.1006268,
          31.8321617,
          37.1622865,
          33.6327558,
          33.1890619,
          35.539608,
          33.3492657,
          36.33801589999999,
          33.9810411,
          34.0632635,
          31.375051,
          33.9015062,
          33.19687570000001,
          33.8854016,
          34.5165856,
          32.9038019,
          34.6680742,
          36.132313,
          33.1849969,
          33.7793348,
          32.5010333,
          33.6133649,
          33.8615931,
          33.2480139,
          31.719543,
          33.8227981,
          34.5995481,
          32.507843,
          33.5738695,
          33.3045177,
          33.0344876,
          33.9321902,
          33.8884275,
          33.373168,
          33.3280901,
          32.6839422,
          34.6705868,
          33.6066763,
          33.2769087,
          34.605476,
          33.6051041,
          33.5921353,
          32.9314599,
          33.5533525,
          34.4692547,
          33.89368080000001,
          36.4105658,
          34.5435805,
          32.8044066,
          33.9177615,
          32.0239101,
          33.9473094,
          34.4942837,
          33.0301519,
          33.9564235,
          34.6075268,
          33.0968652,
          32.7262946,
          33.5840497,
          36.7590496,
          34.5119416,
          26.7456488,
          33.32085,
          34.4399246,
          33.8952617,
          33.5854231,
          33.9208747,
          32.2152235
         ],
         "legendgroup": "",
         "lon": [
          130.3080848,
          132.7273863,
          130.9882162,
          130.7405664,
          132.7622654,
          132.7002782,
          132.5264409,
          133.3415734,
          131.3849154,
          130.9337317,
          135.1380815,
          131.0796778,
          138.558107,
          133.7758944,
          130.3812873,
          130.0889357,
          129.9850844,
          130.2931962,
          138.2711028,
          130.7726649,
          131.5510242,
          139.5152296,
          130.6895799,
          138.9955116,
          133.5500676,
          132.9994212,
          130.8487826,
          130.8073796,
          130.0254025,
          130.9612121,
          133.7597423,
          130.6956394,
          135.5973071,
          139.6097908,
          130.1504313,
          132.7063887,
          130.6384926,
          130.6949011,
          130.7597913,
          131.7190302,
          131.061519,
          130.8757484,
          133.8265408,
          130.601994,
          130.3165995,
          130.3755655,
          130.4349005,
          133.2804705,
          132.7326196,
          130.4989564,
          130.9403851,
          130.6656533,
          133.7489712,
          130.4285519,
          129.9041873,
          133.9735102,
          130.4105582,
          131.1959413,
          130.5590789,
          130.4334872,
          133.3943468,
          130.6939898,
          139.342672,
          135.4580715,
          130.7140311,
          133.1917875,
          131.4740591,
          130.96973,
          133.4605487,
          130.4461332,
          133.2817621,
          133.8171478,
          130.0946999,
          130.7141951,
          130.3597423,
          137.0194935,
          133.4120217,
          128.1779451,
          130.5076516,
          133.3820707,
          130.8293822,
          130.2527462,
          130.7849959,
          130.3992939
         ],
         "marker": {
          "color": [
           223,
           223,
           223,
           225,
           225,
           225,
           227,
           227,
           227,
           227,
           227,
           228,
           229,
           230,
           231,
           232,
           232,
           233,
           234,
           234,
           236,
           236,
           237,
           238,
           238,
           239,
           239,
           240,
           242,
           242,
           242,
           245,
           245,
           245,
           245,
           246,
           247,
           247,
           251,
           252,
           252,
           253,
           253,
           255,
           258,
           262,
           263,
           263,
           264,
           266,
           267,
           270,
           270,
           274,
           274,
           274,
           277,
           279,
           280,
           281,
           281,
           281,
           284,
           284,
           287,
           287,
           288,
           289,
           296,
           297,
           299,
           302,
           303,
           311,
           311,
           316,
           316,
           319,
           327,
           330,
           331,
           332,
           336,
           362
          ],
          "coloraxis": "coloraxis",
          "size": [
           223,
           223,
           223,
           225,
           225,
           225,
           227,
           227,
           227,
           227,
           227,
           228,
           229,
           230,
           231,
           232,
           232,
           233,
           234,
           234,
           236,
           236,
           237,
           238,
           238,
           239,
           239,
           240,
           242,
           242,
           242,
           245,
           245,
           245,
           245,
           246,
           247,
           247,
           251,
           252,
           252,
           253,
           253,
           255,
           258,
           262,
           263,
           263,
           264,
           266,
           267,
           270,
           270,
           274,
           274,
           274,
           277,
           279,
           280,
           281,
           281,
           281,
           284,
           284,
           287,
           287,
           288,
           289,
           296,
           297,
           299,
           302,
           303,
           311,
           311,
           316,
           316,
           319,
           327,
           330,
           331,
           332,
           336,
           362
          ],
          "sizemode": "area",
          "sizeref": 0.905
         },
         "mode": "markers",
         "name": "",
         "showlegend": false,
         "subplot": "mapbox",
         "type": "scattermapbox"
        }
       ],
       "layout": {
        "autosize": true,
        "coloraxis": {
         "colorbar": {
          "title": {
           "text": "size"
          }
         },
         "colorscale": [
          [
           0,
           "#000000"
          ],
          [
           0.0625,
           "#001f4d"
          ],
          [
           0.125,
           "#003786"
          ],
          [
           0.1875,
           "#0e58a8"
          ],
          [
           0.25,
           "#217eb8"
          ],
          [
           0.3125,
           "#30a4ca"
          ],
          [
           0.375,
           "#54c8df"
          ],
          [
           0.4375,
           "#9be4ef"
          ],
          [
           0.5,
           "#e1e9d1"
          ],
          [
           0.5625,
           "#f3d573"
          ],
          [
           0.625,
           "#e7b000"
          ],
          [
           0.6875,
           "#da8200"
          ],
          [
           0.75,
           "#c65400"
          ],
          [
           0.8125,
           "#ac2301"
          ],
          [
           0.875,
           "#820000"
          ],
          [
           0.9375,
           "#4c0000"
          ],
          [
           1,
           "#000000"
          ]
         ]
        },
        "legend": {
         "itemsizing": "constant",
         "tracegroupgap": 0
        },
        "mapbox": {
         "bearing": 0,
         "center": {
          "lat": 36.686567,
          "lon": 135.52
         },
         "domain": {
          "x": [
           0,
           1
          ],
          "y": [
           0,
           1
          ]
         },
         "pitch": 0,
         "style": "open-street-map",
         "zoom": 4
        },
        "margin": {
         "t": 60
        },
        "template": {
         "data": {
          "bar": [
           {
            "error_x": {
             "color": "#2a3f5f"
            },
            "error_y": {
             "color": "#2a3f5f"
            },
            "marker": {
             "line": {
              "color": "#E5ECF6",
              "width": 0.5
             },
             "pattern": {
              "fillmode": "overlay",
              "size": 10,
              "solidity": 0.2
             }
            },
            "type": "bar"
           }
          ],
          "barpolar": [
           {
            "marker": {
             "line": {
              "color": "#E5ECF6",
              "width": 0.5
             },
             "pattern": {
              "fillmode": "overlay",
              "size": 10,
              "solidity": 0.2
             }
            },
            "type": "barpolar"
           }
          ],
          "carpet": [
           {
            "aaxis": {
             "endlinecolor": "#2a3f5f",
             "gridcolor": "white",
             "linecolor": "white",
             "minorgridcolor": "white",
             "startlinecolor": "#2a3f5f"
            },
            "baxis": {
             "endlinecolor": "#2a3f5f",
             "gridcolor": "white",
             "linecolor": "white",
             "minorgridcolor": "white",
             "startlinecolor": "#2a3f5f"
            },
            "type": "carpet"
           }
          ],
          "choropleth": [
           {
            "colorbar": {
             "outlinewidth": 0,
             "ticks": ""
            },
            "type": "choropleth"
           }
          ],
          "contour": [
           {
            "colorbar": {
             "outlinewidth": 0,
             "ticks": ""
            },
            "colorscale": [
             [
              0,
              "#0d0887"
             ],
             [
              0.1111111111111111,
              "#46039f"
             ],
             [
              0.2222222222222222,
              "#7201a8"
             ],
             [
              0.3333333333333333,
              "#9c179e"
             ],
             [
              0.4444444444444444,
              "#bd3786"
             ],
             [
              0.5555555555555556,
              "#d8576b"
             ],
             [
              0.6666666666666666,
              "#ed7953"
             ],
             [
              0.7777777777777778,
              "#fb9f3a"
             ],
             [
              0.8888888888888888,
              "#fdca26"
             ],
             [
              1,
              "#f0f921"
             ]
            ],
            "type": "contour"
           }
          ],
          "contourcarpet": [
           {
            "colorbar": {
             "outlinewidth": 0,
             "ticks": ""
            },
            "type": "contourcarpet"
           }
          ],
          "heatmap": [
           {
            "colorbar": {
             "outlinewidth": 0,
             "ticks": ""
            },
            "colorscale": [
             [
              0,
              "#0d0887"
             ],
             [
              0.1111111111111111,
              "#46039f"
             ],
             [
              0.2222222222222222,
              "#7201a8"
             ],
             [
              0.3333333333333333,
              "#9c179e"
             ],
             [
              0.4444444444444444,
              "#bd3786"
             ],
             [
              0.5555555555555556,
              "#d8576b"
             ],
             [
              0.6666666666666666,
              "#ed7953"
             ],
             [
              0.7777777777777778,
              "#fb9f3a"
             ],
             [
              0.8888888888888888,
              "#fdca26"
             ],
             [
              1,
              "#f0f921"
             ]
            ],
            "type": "heatmap"
           }
          ],
          "heatmapgl": [
           {
            "colorbar": {
             "outlinewidth": 0,
             "ticks": ""
            },
            "colorscale": [
             [
              0,
              "#0d0887"
             ],
             [
              0.1111111111111111,
              "#46039f"
             ],
             [
              0.2222222222222222,
              "#7201a8"
             ],
             [
              0.3333333333333333,
              "#9c179e"
             ],
             [
              0.4444444444444444,
              "#bd3786"
             ],
             [
              0.5555555555555556,
              "#d8576b"
             ],
             [
              0.6666666666666666,
              "#ed7953"
             ],
             [
              0.7777777777777778,
              "#fb9f3a"
             ],
             [
              0.8888888888888888,
              "#fdca26"
             ],
             [
              1,
              "#f0f921"
             ]
            ],
            "type": "heatmapgl"
           }
          ],
          "histogram": [
           {
            "marker": {
             "pattern": {
              "fillmode": "overlay",
              "size": 10,
              "solidity": 0.2
             }
            },
            "type": "histogram"
           }
          ],
          "histogram2d": [
           {
            "colorbar": {
             "outlinewidth": 0,
             "ticks": ""
            },
            "colorscale": [
             [
              0,
              "#0d0887"
             ],
             [
              0.1111111111111111,
              "#46039f"
             ],
             [
              0.2222222222222222,
              "#7201a8"
             ],
             [
              0.3333333333333333,
              "#9c179e"
             ],
             [
              0.4444444444444444,
              "#bd3786"
             ],
             [
              0.5555555555555556,
              "#d8576b"
             ],
             [
              0.6666666666666666,
              "#ed7953"
             ],
             [
              0.7777777777777778,
              "#fb9f3a"
             ],
             [
              0.8888888888888888,
              "#fdca26"
             ],
             [
              1,
              "#f0f921"
             ]
            ],
            "type": "histogram2d"
           }
          ],
          "histogram2dcontour": [
           {
            "colorbar": {
             "outlinewidth": 0,
             "ticks": ""
            },
            "colorscale": [
             [
              0,
              "#0d0887"
             ],
             [
              0.1111111111111111,
              "#46039f"
             ],
             [
              0.2222222222222222,
              "#7201a8"
             ],
             [
              0.3333333333333333,
              "#9c179e"
             ],
             [
              0.4444444444444444,
              "#bd3786"
             ],
             [
              0.5555555555555556,
              "#d8576b"
             ],
             [
              0.6666666666666666,
              "#ed7953"
             ],
             [
              0.7777777777777778,
              "#fb9f3a"
             ],
             [
              0.8888888888888888,
              "#fdca26"
             ],
             [
              1,
              "#f0f921"
             ]
            ],
            "type": "histogram2dcontour"
           }
          ],
          "mesh3d": [
           {
            "colorbar": {
             "outlinewidth": 0,
             "ticks": ""
            },
            "type": "mesh3d"
           }
          ],
          "parcoords": [
           {
            "line": {
             "colorbar": {
              "outlinewidth": 0,
              "ticks": ""
             }
            },
            "type": "parcoords"
           }
          ],
          "pie": [
           {
            "automargin": true,
            "type": "pie"
           }
          ],
          "scatter": [
           {
            "fillpattern": {
             "fillmode": "overlay",
             "size": 10,
             "solidity": 0.2
            },
            "type": "scatter"
           }
          ],
          "scatter3d": [
           {
            "line": {
             "colorbar": {
              "outlinewidth": 0,
              "ticks": ""
             }
            },
            "marker": {
             "colorbar": {
              "outlinewidth": 0,
              "ticks": ""
             }
            },
            "type": "scatter3d"
           }
          ],
          "scattercarpet": [
           {
            "marker": {
             "colorbar": {
              "outlinewidth": 0,
              "ticks": ""
             }
            },
            "type": "scattercarpet"
           }
          ],
          "scattergeo": [
           {
            "marker": {
             "colorbar": {
              "outlinewidth": 0,
              "ticks": ""
             }
            },
            "type": "scattergeo"
           }
          ],
          "scattergl": [
           {
            "marker": {
             "colorbar": {
              "outlinewidth": 0,
              "ticks": ""
             }
            },
            "type": "scattergl"
           }
          ],
          "scattermapbox": [
           {
            "marker": {
             "colorbar": {
              "outlinewidth": 0,
              "ticks": ""
             }
            },
            "type": "scattermapbox"
           }
          ],
          "scatterpolar": [
           {
            "marker": {
             "colorbar": {
              "outlinewidth": 0,
              "ticks": ""
             }
            },
            "type": "scatterpolar"
           }
          ],
          "scatterpolargl": [
           {
            "marker": {
             "colorbar": {
              "outlinewidth": 0,
              "ticks": ""
             }
            },
            "type": "scatterpolargl"
           }
          ],
          "scatterternary": [
           {
            "marker": {
             "colorbar": {
              "outlinewidth": 0,
              "ticks": ""
             }
            },
            "type": "scatterternary"
           }
          ],
          "surface": [
           {
            "colorbar": {
             "outlinewidth": 0,
             "ticks": ""
            },
            "colorscale": [
             [
              0,
              "#0d0887"
             ],
             [
              0.1111111111111111,
              "#46039f"
             ],
             [
              0.2222222222222222,
              "#7201a8"
             ],
             [
              0.3333333333333333,
              "#9c179e"
             ],
             [
              0.4444444444444444,
              "#bd3786"
             ],
             [
              0.5555555555555556,
              "#d8576b"
             ],
             [
              0.6666666666666666,
              "#ed7953"
             ],
             [
              0.7777777777777778,
              "#fb9f3a"
             ],
             [
              0.8888888888888888,
              "#fdca26"
             ],
             [
              1,
              "#f0f921"
             ]
            ],
            "type": "surface"
           }
          ],
          "table": [
           {
            "cells": {
             "fill": {
              "color": "#EBF0F8"
             },
             "line": {
              "color": "white"
             }
            },
            "header": {
             "fill": {
              "color": "#C8D4E3"
             },
             "line": {
              "color": "white"
             }
            },
            "type": "table"
           }
          ]
         },
         "layout": {
          "annotationdefaults": {
           "arrowcolor": "#2a3f5f",
           "arrowhead": 0,
           "arrowwidth": 1
          },
          "autotypenumbers": "strict",
          "coloraxis": {
           "colorbar": {
            "outlinewidth": 0,
            "ticks": ""
           }
          },
          "colorscale": {
           "diverging": [
            [
             0,
             "#8e0152"
            ],
            [
             0.1,
             "#c51b7d"
            ],
            [
             0.2,
             "#de77ae"
            ],
            [
             0.3,
             "#f1b6da"
            ],
            [
             0.4,
             "#fde0ef"
            ],
            [
             0.5,
             "#f7f7f7"
            ],
            [
             0.6,
             "#e6f5d0"
            ],
            [
             0.7,
             "#b8e186"
            ],
            [
             0.8,
             "#7fbc41"
            ],
            [
             0.9,
             "#4d9221"
            ],
            [
             1,
             "#276419"
            ]
           ],
           "sequential": [
            [
             0,
             "#0d0887"
            ],
            [
             0.1111111111111111,
             "#46039f"
            ],
            [
             0.2222222222222222,
             "#7201a8"
            ],
            [
             0.3333333333333333,
             "#9c179e"
            ],
            [
             0.4444444444444444,
             "#bd3786"
            ],
            [
             0.5555555555555556,
             "#d8576b"
            ],
            [
             0.6666666666666666,
             "#ed7953"
            ],
            [
             0.7777777777777778,
             "#fb9f3a"
            ],
            [
             0.8888888888888888,
             "#fdca26"
            ],
            [
             1,
             "#f0f921"
            ]
           ],
           "sequentialminus": [
            [
             0,
             "#0d0887"
            ],
            [
             0.1111111111111111,
             "#46039f"
            ],
            [
             0.2222222222222222,
             "#7201a8"
            ],
            [
             0.3333333333333333,
             "#9c179e"
            ],
            [
             0.4444444444444444,
             "#bd3786"
            ],
            [
             0.5555555555555556,
             "#d8576b"
            ],
            [
             0.6666666666666666,
             "#ed7953"
            ],
            [
             0.7777777777777778,
             "#fb9f3a"
            ],
            [
             0.8888888888888888,
             "#fdca26"
            ],
            [
             1,
             "#f0f921"
            ]
           ]
          },
          "colorway": [
           "#636efa",
           "#EF553B",
           "#00cc96",
           "#ab63fa",
           "#FFA15A",
           "#19d3f3",
           "#FF6692",
           "#B6E880",
           "#FF97FF",
           "#FECB52"
          ],
          "font": {
           "color": "#2a3f5f"
          },
          "geo": {
           "bgcolor": "white",
           "lakecolor": "white",
           "landcolor": "#E5ECF6",
           "showlakes": true,
           "showland": true,
           "subunitcolor": "white"
          },
          "hoverlabel": {
           "align": "left"
          },
          "hovermode": "closest",
          "mapbox": {
           "style": "light"
          },
          "paper_bgcolor": "white",
          "plot_bgcolor": "#E5ECF6",
          "polar": {
           "angularaxis": {
            "gridcolor": "white",
            "linecolor": "white",
            "ticks": ""
           },
           "bgcolor": "#E5ECF6",
           "radialaxis": {
            "gridcolor": "white",
            "linecolor": "white",
            "ticks": ""
           }
          },
          "scene": {
           "xaxis": {
            "backgroundcolor": "#E5ECF6",
            "gridcolor": "white",
            "gridwidth": 2,
            "linecolor": "white",
            "showbackground": true,
            "ticks": "",
            "zerolinecolor": "white"
           },
           "yaxis": {
            "backgroundcolor": "#E5ECF6",
            "gridcolor": "white",
            "gridwidth": 2,
            "linecolor": "white",
            "showbackground": true,
            "ticks": "",
            "zerolinecolor": "white"
           },
           "zaxis": {
            "backgroundcolor": "#E5ECF6",
            "gridcolor": "white",
            "gridwidth": 2,
            "linecolor": "white",
            "showbackground": true,
            "ticks": "",
            "zerolinecolor": "white"
           }
          },
          "shapedefaults": {
           "line": {
            "color": "#2a3f5f"
           }
          },
          "ternary": {
           "aaxis": {
            "gridcolor": "white",
            "linecolor": "white",
            "ticks": ""
           },
           "baxis": {
            "gridcolor": "white",
            "linecolor": "white",
            "ticks": ""
           },
           "bgcolor": "#E5ECF6",
           "caxis": {
            "gridcolor": "white",
            "linecolor": "white",
            "ticks": ""
           }
          },
          "title": {
           "x": 0.05
          },
          "xaxis": {
           "automargin": true,
           "gridcolor": "white",
           "linecolor": "white",
           "ticks": "",
           "title": {
            "standoff": 15
           },
           "zerolinecolor": "white",
           "zerolinewidth": 2
          },
          "yaxis": {
           "automargin": true,
           "gridcolor": "white",
           "linecolor": "white",
           "ticks": "",
           "title": {
            "standoff": 15
           },
           "zerolinecolor": "white",
           "zerolinewidth": 2
          }
         }
        }
       }
      },
      "image/png": "[encoded data removed]",
      "text/html": [
       "<div>                            <div id=\"596aab71-5c9c-4190-b4a1-e7bc7c661d8c\" class=\"plotly-graph-div\" style=\"height:525px; width:100%;\"></div>            <script type=\"text/javascript\">                require([\"plotly\"], function(Plotly) {                    window.PLOTLYENV=window.PLOTLYENV || {};                                    if (document.getElementById(\"596aab71-5c9c-4190-b4a1-e7bc7c661d8c\")) {                    Plotly.newPlot(                        \"596aab71-5c9c-4190-b4a1-e7bc7c661d8c\",                        [{\"hovertemplate\":\"size=%{marker.color}<br>lat=%{lat}<br>lon=%{lon}<extra></extra>\",\"lat\":[33.2568013,33.8415709,34.003159,32.7822415,33.82088,33.810515,33.6256272,35.43753900000001,31.60241139999999,34.1711271,34.2477906,31.76077,35.6362127,34.6007931,33.5573435,33.3001304,33.1006268,31.8321617,37.1622865,33.6327558,33.1890619,35.539608,33.3492657,36.33801589999999,33.9810411,34.0632635,31.375051,33.9015062,33.19687570000001,33.8854016,34.5165856,32.9038019,34.6680742,36.132313,33.1849969,33.7793348,32.5010333,33.6133649,33.8615931,33.2480139,31.719543,33.8227981,34.5995481,32.507843,33.5738695,33.3045177,33.0344876,33.9321902,33.8884275,33.373168,33.3280901,32.6839422,34.6705868,33.6066763,33.2769087,34.605476,33.6051041,33.5921353,32.9314599,33.5533525,34.4692547,33.89368080000001,36.4105658,34.5435805,32.8044066,33.9177615,32.0239101,33.9473094,34.4942837,33.0301519,33.9564235,34.6075268,33.0968652,32.7262946,33.5840497,36.7590496,34.5119416,26.7456488,33.32085,34.4399246,33.8952617,33.5854231,33.9208747,32.2152235],\"legendgroup\":\"\",\"lon\":[130.3080848,132.7273863,130.9882162,130.7405664,132.7622654,132.7002782,132.5264409,133.3415734,131.3849154,130.9337317,135.1380815,131.0796778,138.558107,133.7758944,130.3812873,130.0889357,129.9850844,130.2931962,138.2711028,130.7726649,131.5510242,139.5152296,130.6895799,138.9955116,133.5500676,132.9994212,130.8487826,130.8073796,130.0254025,130.9612121,133.7597423,130.6956394,135.5973071,139.6097908,130.1504313,132.7063887,130.6384926,130.6949011,130.7597913,131.7190302,131.061519,130.8757484,133.8265408,130.601994,130.3165995,130.3755655,130.4349005,133.2804705,132.7326196,130.4989564,130.9403851,130.6656533,133.7489712,130.4285519,129.9041873,133.9735102,130.4105582,131.1959413,130.5590789,130.4334872,133.3943468,130.6939898,139.342672,135.4580715,130.7140311,133.1917875,131.4740591,130.96973,133.4605487,130.4461332,133.2817621,133.8171478,130.0946999,130.7141951,130.3597423,137.0194935,133.4120217,128.1779451,130.5076516,133.3820707,130.8293822,130.2527462,130.7849959,130.3992939],\"marker\":{\"color\":[223,223,223,225,225,225,227,227,227,227,227,228,229,230,231,232,232,233,234,234,236,236,237,238,238,239,239,240,242,242,242,245,245,245,245,246,247,247,251,252,252,253,253,255,258,262,263,263,264,266,267,270,270,274,274,274,277,279,280,281,281,281,284,284,287,287,288,289,296,297,299,302,303,311,311,316,316,319,327,330,331,332,336,362],\"coloraxis\":\"coloraxis\",\"size\":[223,223,223,225,225,225,227,227,227,227,227,228,229,230,231,232,232,233,234,234,236,236,237,238,238,239,239,240,242,242,242,245,245,245,245,246,247,247,251,252,252,253,253,255,258,262,263,263,264,266,267,270,270,274,274,274,277,279,280,281,281,281,284,284,287,287,288,289,296,297,299,302,303,311,311,316,316,319,327,330,331,332,336,362],\"sizemode\":\"area\",\"sizeref\":0.905},\"mode\":\"markers\",\"name\":\"\",\"showlegend\":false,\"subplot\":\"mapbox\",\"type\":\"scattermapbox\"}],                        {\"template\":{\"data\":{\"histogram2dcontour\":[{\"type\":\"histogram2dcontour\",\"colorbar\":{\"outlinewidth\":0,\"ticks\":\"\"},\"colorscale\":[[0.0,\"#0d0887\"],[0.1111111111111111,\"#46039f\"],[0.2222222222222222,\"#7201a8\"],[0.3333333333333333,\"#9c179e\"],[0.4444444444444444,\"#bd3786\"],[0.5555555555555556,\"#d8576b\"],[0.6666666666666666,\"#ed7953\"],[0.7777777777777778,\"#fb9f3a\"],[0.8888888888888888,\"#fdca26\"],[1.0,\"#f0f921\"]]}],\"choropleth\":[{\"type\":\"choropleth\",\"colorbar\":{\"outlinewidth\":0,\"ticks\":\"\"}}],\"histogram2d\":[{\"type\":\"histogram2d\",\"colorbar\":{\"outlinewidth\":0,\"ticks\":\"\"},\"colorscale\":[[0.0,\"#0d0887\"],[0.1111111111111111,\"#46039f\"],[0.2222222222222222,\"#7201a8\"],[0.3333333333333333,\"#9c179e\"],[0.4444444444444444,\"#bd3786\"],[0.5555555555555556,\"#d8576b\"],[0.6666666666666666,\"#ed7953\"],[0.7777777777777778,\"#fb9f3a\"],[0.8888888888888888,\"#fdca26\"],[1.0,\"#f0f921\"]]}],\"heatmap\":[{\"type\":\"heatmap\",\"colorbar\":{\"outlinewidth\":0,\"ticks\":\"\"},\"colorscale\":[[0.0,\"#0d0887\"],[0.1111111111111111,\"#46039f\"],[0.2222222222222222,\"#7201a8\"],[0.3333333333333333,\"#9c179e\"],[0.4444444444444444,\"#bd3786\"],[0.5555555555555556,\"#d8576b\"],[0.6666666666666666,\"#ed7953\"],[0.7777777777777778,\"#fb9f3a\"],[0.8888888888888888,\"#fdca26\"],[1.0,\"#f0f921\"]]}],\"heatmapgl\":[{\"type\":\"heatmapgl\",\"colorbar\":{\"outlinewidth\":0,\"ticks\":\"\"},\"colorscale\":[[0.0,\"#0d0887\"],[0.1111111111111111,\"#46039f\"],[0.2222222222222222,\"#7201a8\"],[0.3333333333333333,\"#9c179e\"],[0.4444444444444444,\"#bd3786\"],[0.5555555555555556,\"#d8576b\"],[0.6666666666666666,\"#ed7953\"],[0.7777777777777778,\"#fb9f3a\"],[0.8888888888888888,\"#fdca26\"],[1.0,\"#f0f921\"]]}],\"contourcarpet\":[{\"type\":\"contourcarpet\",\"colorbar\":{\"outlinewidth\":0,\"ticks\":\"\"}}],\"contour\":[{\"type\":\"contour\",\"colorbar\":{\"outlinewidth\":0,\"ticks\":\"\"},\"colorscale\":[[0.0,\"#0d0887\"],[0.1111111111111111,\"#46039f\"],[0.2222222222222222,\"#7201a8\"],[0.3333333333333333,\"#9c179e\"],[0.4444444444444444,\"#bd3786\"],[0.5555555555555556,\"#d8576b\"],[0.6666666666666666,\"#ed7953\"],[0.7777777777777778,\"#fb9f3a\"],[0.8888888888888888,\"#fdca26\"],[1.0,\"#f0f921\"]]}],\"surface\":[{\"type\":\"surface\",\"colorbar\":{\"outlinewidth\":0,\"ticks\":\"\"},\"colorscale\":[[0.0,\"#0d0887\"],[0.1111111111111111,\"#46039f\"],[0.2222222222222222,\"#7201a8\"],[0.3333333333333333,\"#9c179e\"],[0.4444444444444444,\"#bd3786\"],[0.5555555555555556,\"#d8576b\"],[0.6666666666666666,\"#ed7953\"],[0.7777777777777778,\"#fb9f3a\"],[0.8888888888888888,\"#fdca26\"],[1.0,\"#f0f921\"]]}],\"mesh3d\":[{\"type\":\"mesh3d\",\"colorbar\":{\"outlinewidth\":0,\"ticks\":\"\"}}],\"scatter\":[{\"fillpattern\":{\"fillmode\":\"overlay\",\"size\":10,\"solidity\":0.2},\"type\":\"scatter\"}],\"parcoords\":[{\"type\":\"parcoords\",\"line\":{\"colorbar\":{\"outlinewidth\":0,\"ticks\":\"\"}}}],\"scatterpolargl\":[{\"type\":\"scatterpolargl\",\"marker\":{\"colorbar\":{\"outlinewidth\":0,\"ticks\":\"\"}}}],\"bar\":[{\"error_x\":{\"color\":\"#2a3f5f\"},\"error_y\":{\"color\":\"#2a3f5f\"},\"marker\":{\"line\":{\"color\":\"#E5ECF6\",\"width\":0.5},\"pattern\":{\"fillmode\":\"overlay\",\"size\":10,\"solidity\":0.2}},\"type\":\"bar\"}],\"scattergeo\":[{\"type\":\"scattergeo\",\"marker\":{\"colorbar\":{\"outlinewidth\":0,\"ticks\":\"\"}}}],\"scatterpolar\":[{\"type\":\"scatterpolar\",\"marker\":{\"colorbar\":{\"outlinewidth\":0,\"ticks\":\"\"}}}],\"histogram\":[{\"marker\":{\"pattern\":{\"fillmode\":\"overlay\",\"size\":10,\"solidity\":0.2}},\"type\":\"histogram\"}],\"scattergl\":[{\"type\":\"scattergl\",\"marker\":{\"colorbar\":{\"outlinewidth\":0,\"ticks\":\"\"}}}],\"scatter3d\":[{\"type\":\"scatter3d\",\"line\":{\"colorbar\":{\"outlinewidth\":0,\"ticks\":\"\"}},\"marker\":{\"colorbar\":{\"outlinewidth\":0,\"ticks\":\"\"}}}],\"scattermapbox\":[{\"type\":\"scattermapbox\",\"marker\":{\"colorbar\":{\"outlinewidth\":0,\"ticks\":\"\"}}}],\"scatterternary\":[{\"type\":\"scatterternary\",\"marker\":{\"colorbar\":{\"outlinewidth\":0,\"ticks\":\"\"}}}],\"scattercarpet\":[{\"type\":\"scattercarpet\",\"marker\":{\"colorbar\":{\"outlinewidth\":0,\"ticks\":\"\"}}}],\"carpet\":[{\"aaxis\":{\"endlinecolor\":\"#2a3f5f\",\"gridcolor\":\"white\",\"linecolor\":\"white\",\"minorgridcolor\":\"white\",\"startlinecolor\":\"#2a3f5f\"},\"baxis\":{\"endlinecolor\":\"#2a3f5f\",\"gridcolor\":\"white\",\"linecolor\":\"white\",\"minorgridcolor\":\"white\",\"startlinecolor\":\"#2a3f5f\"},\"type\":\"carpet\"}],\"table\":[{\"cells\":{\"fill\":{\"color\":\"#EBF0F8\"},\"line\":{\"color\":\"white\"}},\"header\":{\"fill\":{\"color\":\"#C8D4E3\"},\"line\":{\"color\":\"white\"}},\"type\":\"table\"}],\"barpolar\":[{\"marker\":{\"line\":{\"color\":\"#E5ECF6\",\"width\":0.5},\"pattern\":{\"fillmode\":\"overlay\",\"size\":10,\"solidity\":0.2}},\"type\":\"barpolar\"}],\"pie\":[{\"automargin\":true,\"type\":\"pie\"}]},\"layout\":{\"autotypenumbers\":\"strict\",\"colorway\":[\"#636efa\",\"#EF553B\",\"#00cc96\",\"#ab63fa\",\"#FFA15A\",\"#19d3f3\",\"#FF6692\",\"#B6E880\",\"#FF97FF\",\"#FECB52\"],\"font\":{\"color\":\"#2a3f5f\"},\"hovermode\":\"closest\",\"hoverlabel\":{\"align\":\"left\"},\"paper_bgcolor\":\"white\",\"plot_bgcolor\":\"#E5ECF6\",\"polar\":{\"bgcolor\":\"#E5ECF6\",\"angularaxis\":{\"gridcolor\":\"white\",\"linecolor\":\"white\",\"ticks\":\"\"},\"radialaxis\":{\"gridcolor\":\"white\",\"linecolor\":\"white\",\"ticks\":\"\"}},\"ternary\":{\"bgcolor\":\"#E5ECF6\",\"aaxis\":{\"gridcolor\":\"white\",\"linecolor\":\"white\",\"ticks\":\"\"},\"baxis\":{\"gridcolor\":\"white\",\"linecolor\":\"white\",\"ticks\":\"\"},\"caxis\":{\"gridcolor\":\"white\",\"linecolor\":\"white\",\"ticks\":\"\"}},\"coloraxis\":{\"colorbar\":{\"outlinewidth\":0,\"ticks\":\"\"}},\"colorscale\":{\"sequential\":[[0.0,\"#0d0887\"],[0.1111111111111111,\"#46039f\"],[0.2222222222222222,\"#7201a8\"],[0.3333333333333333,\"#9c179e\"],[0.4444444444444444,\"#bd3786\"],[0.5555555555555556,\"#d8576b\"],[0.6666666666666666,\"#ed7953\"],[0.7777777777777778,\"#fb9f3a\"],[0.8888888888888888,\"#fdca26\"],[1.0,\"#f0f921\"]],\"sequentialminus\":[[0.0,\"#0d0887\"],[0.1111111111111111,\"#46039f\"],[0.2222222222222222,\"#7201a8\"],[0.3333333333333333,\"#9c179e\"],[0.4444444444444444,\"#bd3786\"],[0.5555555555555556,\"#d8576b\"],[0.6666666666666666,\"#ed7953\"],[0.7777777777777778,\"#fb9f3a\"],[0.8888888888888888,\"#fdca26\"],[1.0,\"#f0f921\"]],\"diverging\":[[0,\"#8e0152\"],[0.1,\"#c51b7d\"],[0.2,\"#de77ae\"],[0.3,\"#f1b6da\"],[0.4,\"#fde0ef\"],[0.5,\"#f7f7f7\"],[0.6,\"#e6f5d0\"],[0.7,\"#b8e186\"],[0.8,\"#7fbc41\"],[0.9,\"#4d9221\"],[1,\"#276419\"]]},\"xaxis\":{\"gridcolor\":\"white\",\"linecolor\":\"white\",\"ticks\":\"\",\"title\":{\"standoff\":15},\"zerolinecolor\":\"white\",\"automargin\":true,\"zerolinewidth\":2},\"yaxis\":{\"gridcolor\":\"white\",\"linecolor\":\"white\",\"ticks\":\"\",\"title\":{\"standoff\":15},\"zerolinecolor\":\"white\",\"automargin\":true,\"zerolinewidth\":2},\"scene\":{\"xaxis\":{\"backgroundcolor\":\"#E5ECF6\",\"gridcolor\":\"white\",\"linecolor\":\"white\",\"showbackground\":true,\"ticks\":\"\",\"zerolinecolor\":\"white\",\"gridwidth\":2},\"yaxis\":{\"backgroundcolor\":\"#E5ECF6\",\"gridcolor\":\"white\",\"linecolor\":\"white\",\"showbackground\":true,\"ticks\":\"\",\"zerolinecolor\":\"white\",\"gridwidth\":2},\"zaxis\":{\"backgroundcolor\":\"#E5ECF6\",\"gridcolor\":\"white\",\"linecolor\":\"white\",\"showbackground\":true,\"ticks\":\"\",\"zerolinecolor\":\"white\",\"gridwidth\":2}},\"shapedefaults\":{\"line\":{\"color\":\"#2a3f5f\"}},\"annotationdefaults\":{\"arrowcolor\":\"#2a3f5f\",\"arrowhead\":0,\"arrowwidth\":1},\"geo\":{\"bgcolor\":\"white\",\"landcolor\":\"#E5ECF6\",\"subunitcolor\":\"white\",\"showland\":true,\"showlakes\":true,\"lakecolor\":\"white\"},\"title\":{\"x\":0.05},\"mapbox\":{\"style\":\"light\"}}},\"mapbox\":{\"domain\":{\"x\":[0.0,1.0],\"y\":[0.0,1.0]},\"center\":{\"lat\":36.686567,\"lon\":135.52},\"zoom\":4,\"style\":\"open-street-map\"},\"coloraxis\":{\"colorbar\":{\"title\":{\"text\":\"size\"}},\"colorscale\":[[0.0,\"#000000\"],[0.0625,\"#001f4d\"],[0.125,\"#003786\"],[0.1875,\"#0e58a8\"],[0.25,\"#217eb8\"],[0.3125,\"#30a4ca\"],[0.375,\"#54c8df\"],[0.4375,\"#9be4ef\"],[0.5,\"#e1e9d1\"],[0.5625,\"#f3d573\"],[0.625,\"#e7b000\"],[0.6875,\"#da8200\"],[0.75,\"#c65400\"],[0.8125,\"#ac2301\"],[0.875,\"#820000\"],[0.9375,\"#4c0000\"],[1.0,\"#000000\"]]},\"legend\":{\"tracegroupgap\":0,\"itemsizing\":\"constant\"},\"margin\":{\"t\":60}},                        {\"responsive\": true}                    ).then(function(){\n",
       "                            \n",
       "var gd = document.getElementById('596aab71-5c9c-4190-b4a1-e7bc7c661d8c');\n",
       "var x = new MutationObserver(function (mutations, observer) {{\n",
       "        var display = window.getComputedStyle(gd).display;\n",
       "        if (!display || display === 'none') {{\n",
       "            console.log([gd, 'removed!']);\n",
       "            Plotly.purge(gd);\n",
       "            observer.disconnect();\n",
       "        }}\n",
       "}});\n",
       "\n",
       "// Listen for the removal of the full notebook cells\n",
       "var notebookContainer = gd.closest('#notebook-container');\n",
       "if (notebookContainer) {{\n",
       "    x.observe(notebookContainer, {childList: true});\n",
       "}}\n",
       "\n",
       "// Listen for the clearing of the current output cell\n",
       "var outputEl = gd.closest('.output');\n",
       "if (outputEl) {{\n",
       "    x.observe(outputEl, {childList: true});\n",
       "}}\n",
       "\n",
       "                        })                };                });            </script>        </div>"
      ]
     },
     "metadata": {},
     "output_type": "display_data"
    },
    {
     "name": "stdout",
     "output_type": "stream",
     "text": [
      "Database connection closed.\n"
     ]
    }
   ],
   "source": [
    "params = config()\n",
    "db_manager = DBManager(params)\n",
    "db_manager.connect()\n",
    "\n",
    "patterns = read_and_process_patterns_file('frequentPatterns.txt')\n",
    "\n",
    "coordinates = db_manager.fetch_coordinates(patterns.keys())\n",
    "\n",
    "plot_patterns_on_map(patterns, coordinates)\n",
    "\n",
    "db_manager.close()"
   ]
  },
  {
   "cell_type": "markdown",
   "id": "356efb63-0ef2-4559-b361-2a186f50aabc",
   "metadata": {},
   "source": [
    "https://github.com/satyappp/PAMI"
   ]
  },
  {
   "cell_type": "code",
   "execution_count": null,
   "id": "09fa5883-0275-4da0-9d9e-b55f50463166",
   "metadata": {},
   "outputs": [],
   "source": []
  }
 ],
 "metadata": {
  "kernelspec": {
   "display_name": "Python 3 (ipykernel)",
   "language": "python",
   "name": "python3"
  },
  "language_info": {
   "codemirror_mode": {
    "name": "ipython",
    "version": 3
   },
   "file_extension": ".py",
   "mimetype": "text/x-python",
   "name": "python",
   "nbconvert_exporter": "python",
   "pygments_lexer": "ipython3",
   "version": "3.10.4"
  }
 },
 "nbformat": 4,
 "nbformat_minor": 5
}
